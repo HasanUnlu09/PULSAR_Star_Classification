{
 "cells": [
  {
   "cell_type": "markdown",
   "id": "5de7f35c-14b0-4452-860e-f82f3270d7d6",
   "metadata": {},
   "source": [
    "---"
   ]
  },
  {
   "cell_type": "markdown",
   "id": "b53a65f0-6827-4e9a-8fd6-4c13dc6f5f18",
   "metadata": {},
   "source": [
    "It is a classification problem.\\\n",
    "**Is the star is PULSAR or not?**"
   ]
  },
  {
   "cell_type": "markdown",
   "id": "60ea1d75-555c-42f3-9d0b-40084ee70a58",
   "metadata": {},
   "source": [
    "---"
   ]
  }
 ],
 "metadata": {
  "kernelspec": {
   "display_name": "Python 3 (ipykernel)",
   "language": "python",
   "name": "python3"
  },
  "language_info": {
   "codemirror_mode": {
    "name": "ipython",
    "version": 3
   },
   "file_extension": ".py",
   "mimetype": "text/x-python",
   "name": "python",
   "nbconvert_exporter": "python",
   "pygments_lexer": "ipython3",
   "version": "3.11.3"
  }
 },
 "nbformat": 4,
 "nbformat_minor": 5
}
